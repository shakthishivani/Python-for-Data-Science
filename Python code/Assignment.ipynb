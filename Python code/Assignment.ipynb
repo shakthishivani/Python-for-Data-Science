{
 "cells": [
  {
   "cell_type": "markdown",
   "metadata": {},
   "source": [
    "# get the size of list and get the number of times input from user and put it in list.sum of all numbers in a list.\n"
   ]
  },
  {
   "cell_type": "code",
   "execution_count": 8,
   "metadata": {},
   "outputs": [
    {
     "name": "stdout",
     "output_type": "stream",
     "text": [
      "Enter the list size:5\n",
      "5\n",
      "Enter the input:1\n",
      "Enter the input:2\n",
      "Enter the input:3\n",
      "Enter the input:4\n",
      "Enter the input:5\n",
      "[1, 2, 3, 4, 5]\n",
      "15\n"
     ]
    }
   ],
   "source": [
    "size = (int(input(\"Enter the list size:\")))\n",
    "print(size)\n",
    "i = 1\n",
    "op_list = []\n",
    "while (i<=size):\n",
    "    inp = (int(input(\"Enter the input:\")))\n",
    "    op_list.append(inp)\n",
    "    i = i+1\n",
    "  \n",
    "print(op_list)\n",
    "out = 0\n",
    "for l in range(0,len(op_list)):\n",
    "    out = out + op_list[l]\n",
    "    \n",
    "print(out)"
   ]
  },
  {
   "cell_type": "markdown",
   "metadata": {},
   "source": [
    "# get the size of list and get the number of times input from user and put it in list.And find the numbers in list is even or odd."
   ]
  },
  {
   "cell_type": "code",
   "execution_count": 10,
   "metadata": {},
   "outputs": [
    {
     "name": "stdout",
     "output_type": "stream",
     "text": [
      "Enter the list size:5\n",
      "5\n",
      "Enter the input:12\n",
      "Enter the input:33\n",
      "Enter the input:27\n",
      "Enter the input:80\n",
      "Enter the input:18\n",
      "[12, 33, 27, 80, 18]\n",
      "Number is even\n",
      "Number is odd\n",
      "Number is odd\n",
      "Number is even\n",
      "Number is even\n"
     ]
    }
   ],
   "source": [
    "size = (int(input(\"Enter the list size:\")))\n",
    "print(size)\n",
    "i = 1\n",
    "op_list = []\n",
    "while (i<=size):\n",
    "    inp = (int(input(\"Enter the input:\")))\n",
    "    op_list.append(inp)\n",
    "    i = i+1\n",
    "  \n",
    "print(op_list)\n",
    "\n",
    "for l in op_list:\n",
    "    if (l % 2 == 0):\n",
    "        print(\"Number is even\")\n",
    "    else:\n",
    "        print(\"Number is odd\")\n",
    "    \n"
   ]
  },
  {
   "cell_type": "markdown",
   "metadata": {},
   "source": [
    "# get the input from user and find the factorial of given input."
   ]
  },
  {
   "cell_type": "code",
   "execution_count": 12,
   "metadata": {},
   "outputs": [
    {
     "name": "stdout",
     "output_type": "stream",
     "text": [
      "Enter the number:5\n",
      "The factorial is : 120\n"
     ]
    }
   ],
   "source": [
    "num = int(input(\"Enter the number:\"))\n",
    "fact = 1\n",
    "for i in range(1,num + 1):\n",
    "    fact = fact * i\n",
    "print(\"The factorial is :\" ,fact)"
   ]
  },
  {
   "cell_type": "markdown",
   "metadata": {},
   "source": [
    "# Simple calulator"
   ]
  },
  {
   "cell_type": "code",
   "execution_count": 40,
   "metadata": {},
   "outputs": [],
   "source": [
    "def add(x,y):\n",
    "    print(\"Addition output : \" , x+y)\n",
    "\n",
    "def sub(x,y):\n",
    "    print(\"Subtraction output: \", x-y)\n",
    "\n",
    "def multiply(x,y):\n",
    "    print(\"Multiply output: \", x*y)\n",
    "\n",
    "def divide(x,y):\n",
    "    print(\"Division output: \", x/y)\n"
   ]
  },
  {
   "cell_type": "code",
   "execution_count": 41,
   "metadata": {},
   "outputs": [
    {
     "name": "stdout",
     "output_type": "stream",
     "text": [
      "Enter the value1:12\n",
      "Enter the value2:12\n",
      "1.Add 2.Sub 3.Multiply 4.Division\n",
      "Enter your option:3\n",
      "Multiply output:  144\n"
     ]
    }
   ],
   "source": [
    "val1 = (int(input(\"Enter the value1:\")))\n",
    "val2 = (int(input(\"Enter the value2:\")))\n",
    "print(\"1.Add\",\"2.Sub\",\"3.Multiply\",\"4.Division\")\n",
    "option = (int(input(\"Enter your option:\")))\n",
    "\n",
    "if(option == 1):\n",
    "    add(val1,val2)\n",
    "    \n",
    "elif(option == 2):\n",
    "    sub(val1,val2)\n",
    "    \n",
    "elif(option == 3):\n",
    "    multiply(val1,val2)\n",
    "    \n",
    "elif(option == 4):\n",
    "    divide(val1,val2)\n",
    "    \n",
    "else:\n",
    "    print(\"Enter from given options\")"
   ]
  },
  {
   "cell_type": "code",
   "execution_count": null,
   "metadata": {},
   "outputs": [],
   "source": []
  },
  {
   "cell_type": "markdown",
   "metadata": {},
   "source": [
    "# From the given input list, select the strings which have first letter in uppercase and last letter in lower case."
   ]
  },
  {
   "cell_type": "code",
   "execution_count": 17,
   "metadata": {},
   "outputs": [],
   "source": [
    "def case(inp_list):\n",
    "    out_list = []\n",
    "    for i in inp_list:\n",
    "        firstletter = i[0]\n",
    "        lastletter = i[(len(inp_list) - 1)]\n",
    "        if firstletter.isupper() and lastletter.islower():\n",
    "            out_list.append(i)\n",
    "    return(out_list)"
   ]
  },
  {
   "cell_type": "code",
   "execution_count": 18,
   "metadata": {},
   "outputs": [
    {
     "data": {
      "text/plain": [
       "['Apple', 'Grapes', 'Banana']"
      ]
     },
     "execution_count": 18,
     "metadata": {},
     "output_type": "execute_result"
    }
   ],
   "source": [
    "case (['Apple','orange','Grapes','guavA','Banana'])"
   ]
  },
  {
   "cell_type": "markdown",
   "metadata": {},
   "source": [
    "# Get the input list and reverse the values in list."
   ]
  },
  {
   "cell_type": "code",
   "execution_count": 19,
   "metadata": {},
   "outputs": [],
   "source": [
    "def rev_list(inp_list):\n",
    "    op_lis = []\n",
    "    le = len(inp_list) - 1\n",
    "    for i in inp_list:\n",
    "        op_lis.append(inp_list[le])\n",
    "        le = le - 1\n",
    "    return(op_lis)"
   ]
  },
  {
   "cell_type": "code",
   "execution_count": 21,
   "metadata": {},
   "outputs": [
    {
     "data": {
      "text/plain": [
       "[2, 85, 55, 12]"
      ]
     },
     "execution_count": 21,
     "metadata": {},
     "output_type": "execute_result"
    }
   ],
   "source": [
    "rev_list([12,55,85,2])"
   ]
  },
  {
   "cell_type": "markdown",
   "metadata": {},
   "source": [
    "# calculate the square of given values in list using Lambda function."
   ]
  },
  {
   "cell_type": "code",
   "execution_count": 22,
   "metadata": {},
   "outputs": [],
   "source": [
    "def lamb_sq(lis):\n",
    "    out_list = []\n",
    "    for i in lis:\n",
    "        sq = lambda i : i**2\n",
    "        out_list.append(sq(i))\n",
    "    return(out_list)\n",
    "    "
   ]
  },
  {
   "cell_type": "code",
   "execution_count": 23,
   "metadata": {},
   "outputs": [
    {
     "data": {
      "text/plain": [
       "[4, 25, 81]"
      ]
     },
     "execution_count": 23,
     "metadata": {},
     "output_type": "execute_result"
    }
   ],
   "source": [
    "lamb_sq([2,5,9])"
   ]
  },
  {
   "cell_type": "markdown",
   "metadata": {},
   "source": [
    "# from two input list, compare and return the values which are not match using list comprehension."
   ]
  },
  {
   "cell_type": "code",
   "execution_count": 24,
   "metadata": {},
   "outputs": [
    {
     "data": {
      "text/plain": [
       "[(1, 2),\n",
       " (1, 3),\n",
       " (1, 7),\n",
       " (2, 3),\n",
       " (2, 7),\n",
       " (5, 2),\n",
       " (5, 3),\n",
       " (5, 7),\n",
       " (7, 2),\n",
       " (7, 3)]"
      ]
     },
     "execution_count": 24,
     "metadata": {},
     "output_type": "execute_result"
    }
   ],
   "source": [
    "l1=[1,2,5,7]\n",
    "l2=[2,3,7]\n",
    "[(i,j) for i in l1 for j in l2 if (i!=j)]"
   ]
  },
  {
   "cell_type": "code",
   "execution_count": null,
   "metadata": {},
   "outputs": [],
   "source": []
  },
  {
   "cell_type": "code",
   "execution_count": null,
   "metadata": {},
   "outputs": [],
   "source": []
  }
 ],
 "metadata": {
  "kernelspec": {
   "display_name": "Python 3",
   "language": "python",
   "name": "python3"
  },
  "language_info": {
   "codemirror_mode": {
    "name": "ipython",
    "version": 3
   },
   "file_extension": ".py",
   "mimetype": "text/x-python",
   "name": "python",
   "nbconvert_exporter": "python",
   "pygments_lexer": "ipython3",
   "version": "3.7.3"
  }
 },
 "nbformat": 4,
 "nbformat_minor": 2
}
